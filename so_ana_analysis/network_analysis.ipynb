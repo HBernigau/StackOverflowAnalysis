{
 "cells": [
  {
   "cell_type": "code",
   "execution_count": 18,
   "metadata": {},
   "outputs": [],
   "source": [
    "import networkx as nx\n",
    "from IPython.display import Image, HTML, display, clear_output\n",
    "from dataclasses import dataclass\n",
    "import matplotlib.pyplot as plt\n",
    "import pandas as pd\n",
    "from typing import Tuple, Any\n",
    "import itertools\n",
    "import numpy as np\n",
    "import seaborn as sns\n",
    "from collections import OrderedDict\n",
    "from datetime import datetime\n",
    "import scipy\n",
    "import os\n",
    "from dataclasses import dataclass, field\n",
    "from statsmodels.distributions.empirical_distribution import ECDF\n",
    "from functools import lru_cache\n",
    "import math"
   ]
  },
  {
   "cell_type": "code",
   "execution_count": 19,
   "metadata": {},
   "outputs": [],
   "source": [
    "import so_ana_doc_worker.so_ana_reporting as so_ana_reporting\n",
    "from sqlalchemy_models.db_deps import prod_db_deps_container, dict_to_es_key\n",
    "import so_ana_management.management_utils as so_ana_mu\n",
    "from so_ana_util import data_access"
   ]
  },
  {
   "cell_type": "markdown",
   "metadata": {},
   "source": [
    "# Constants"
   ]
  },
  {
   "cell_type": "code",
   "execution_count": 20,
   "metadata": {},
   "outputs": [],
   "source": [
    "ROOT_PATH = r'C:\\Users\\d91109\\Documents\\work\\git\\MBA\\python\\data\\dictionaries\\networkanalysis'\n",
    "nr_topics = 10\n",
    "NR_ITERATE = 10000\n",
    "EXP_PATH_USER_GRAPH = os.path.join(ROOT_PATH, 'user_graph.xlsx')\n",
    "EXP_PATH_DOC_GRAPH = os.path.join(ROOT_PATH, 'document_graph.xlsx')\n",
    "EXP_PATH_DISTR =  os.path.join(ROOT_PATH, 'graph_distribution_@GRAPHNAME@.xlsx')"
   ]
  },
  {
   "cell_type": "markdown",
   "metadata": {},
   "source": [
    "# Define relevant helper objects"
   ]
  },
  {
   "cell_type": "code",
   "execution_count": 21,
   "metadata": {},
   "outputs": [],
   "source": [
    "@dataclass\n",
    "class ProgressBar:\n",
    "    heading: str\n",
    "    progr_str: str = field(default='Progress: {ratio:.4f}%')\n",
    "    duration_prfx_str: str = field(default='Duration: ')\n",
    "    width_total_in_px: int = field(default=500)\n",
    "    height_total_in_px: int = field(default=30)\n",
    "    bg_color: str = field(default='DodgerBlue')\n",
    "    txt_color: str = field(default='White')\n",
    "        \n",
    "    def take_time_snapshot(self):\n",
    "        self.curr_time = datetime.now()\n",
    "    \n",
    "    def update_progress(self, progress):\n",
    "        if progress == 0:\n",
    "            self.take_time_snapshot()\n",
    "        if isinstance(progress, int):\n",
    "            progress = float(progress)\n",
    "        if not isinstance(progress, float):\n",
    "            progress = 0\n",
    "        if progress < 0:\n",
    "            progress = 0\n",
    "        if progress >= 1:\n",
    "            progress = 1\n",
    "            \n",
    "        clear_output(wait = True)\n",
    "\n",
    "        width = int(progress * (self.width_total_in_px - 2))\n",
    "        ratio_txt = self.progr_str.format(ratio=100*progress)\n",
    "        time_delta_str = self.duration_prfx_str + str(datetime.now()-self.curr_time)\n",
    "        html_txt = f'<h2>{self.heading}</h2>'\n",
    "        html_txt += f'<div>{ratio_txt}</div>'\n",
    "        html_txt += f'<div style=\"width:{self.width_total_in_px}px;height:{self.height_total_in_px}px;border:1px solid #000;\">'\n",
    "        html_txt += f'<div style=\"width:{width}px;height:{self.height_total_in_px-2}px;border:1px solid #000;background-color:{self.bg_color};color:{self.txt_color}\">'\n",
    "        html_txt += '</div></div>'\n",
    "        html_txt += f'<div>{time_delta_str}</div>'\n",
    "        display(HTML(html_txt))"
   ]
  },
  {
   "cell_type": "markdown",
   "metadata": {},
   "source": [
    "# Get db connection data"
   ]
  },
  {
   "cell_type": "code",
   "execution_count": 22,
   "metadata": {},
   "outputs": [],
   "source": [
    "deps = prod_db_deps_container()"
   ]
  },
  {
   "cell_type": "code",
   "execution_count": 23,
   "metadata": {},
   "outputs": [
    {
     "data": {
      "text/html": [
       "<h1>Last flow-run-id is: \"803fb75f-eea8-4529-a1e9-55299035f152\"\"</h1>"
      ],
      "text/plain": [
       "<IPython.core.display.HTML object>"
      ]
     },
     "metadata": {},
     "output_type": "display_data"
    },
    {
     "data": {
      "text/html": [
       "<hr width=\"85%\" align=\"left\">"
      ],
      "text/plain": [
       "<IPython.core.display.HTML object>"
      ]
     },
     "metadata": {},
     "output_type": "display_data"
    },
    {
     "name": "stdout",
     "output_type": "stream",
     "text": [
      "\n"
     ]
    },
    {
     "data": {
      "text/html": [
       "<h1>Steps for flow-run-id=\"803fb75f-eea8-4529-a1e9-55299035f152\"</h1>"
      ],
      "text/plain": [
       "<IPython.core.display.HTML object>"
      ]
     },
     "metadata": {},
     "output_type": "display_data"
    },
    {
     "data": {
      "text/html": [
       "<div>\n",
       "<style scoped>\n",
       "    .dataframe tbody tr th:only-of-type {\n",
       "        vertical-align: middle;\n",
       "    }\n",
       "\n",
       "    .dataframe tbody tr th {\n",
       "        vertical-align: top;\n",
       "    }\n",
       "\n",
       "    .dataframe thead th {\n",
       "        text-align: right;\n",
       "    }\n",
       "</style>\n",
       "<table border=\"1\" class=\"dataframe\">\n",
       "  <thead>\n",
       "    <tr style=\"text-align: right;\">\n",
       "      <th></th>\n",
       "      <th>flow_name</th>\n",
       "      <th>flow_id</th>\n",
       "      <th>flow_run_id</th>\n",
       "      <th>flow_run_name</th>\n",
       "      <th>step_label</th>\n",
       "      <th>...</th>\n",
       "      <th>result</th>\n",
       "      <th>exit_code</th>\n",
       "      <th>exit_msg</th>\n",
       "      <th>prev_step_lbls</th>\n",
       "      <th>modus</th>\n",
       "    </tr>\n",
       "    <tr>\n",
       "      <th>step</th>\n",
       "      <th></th>\n",
       "      <th></th>\n",
       "      <th></th>\n",
       "      <th></th>\n",
       "      <th></th>\n",
       "      <th></th>\n",
       "      <th></th>\n",
       "      <th></th>\n",
       "      <th></th>\n",
       "      <th></th>\n",
       "      <th></th>\n",
       "    </tr>\n",
       "  </thead>\n",
       "  <tbody>\n",
       "    <tr>\n",
       "      <th>#1</th>\n",
       "      <td>so-analysis</td>\n",
       "      <td>so-analysis</td>\n",
       "      <td>803fb75f-eea8-4529-a1e9-55299035f152</td>\n",
       "      <td>test run: anemic domain model</td>\n",
       "      <td>dwnl_adm_new_reporting_2021_02_05_#1</td>\n",
       "      <td>...</td>\n",
       "      <td>{'step': '#1', 'label': 'dwnl_adm_new_reportin...</td>\n",
       "      <td>0</td>\n",
       "      <td>None</td>\n",
       "      <td>[]</td>\n",
       "      <td>test</td>\n",
       "    </tr>\n",
       "    <tr>\n",
       "      <th>#2</th>\n",
       "      <td>so-analysis</td>\n",
       "      <td>so-analysis</td>\n",
       "      <td>803fb75f-eea8-4529-a1e9-55299035f152</td>\n",
       "      <td>test run: anemic domain model</td>\n",
       "      <td>dwnl_adm_new_reporting_2021_02_05_#2</td>\n",
       "      <td>...</td>\n",
       "      <td>{'step': '#2', 'label': 'dwnl_adm_new_reportin...</td>\n",
       "      <td>0</td>\n",
       "      <td>None</td>\n",
       "      <td>[dwnl_adm_new_reporting_2021_02_05_#1]</td>\n",
       "      <td>test</td>\n",
       "    </tr>\n",
       "    <tr>\n",
       "      <th>#3</th>\n",
       "      <td>so-analysis</td>\n",
       "      <td>so-analysis</td>\n",
       "      <td>803fb75f-eea8-4529-a1e9-55299035f152</td>\n",
       "      <td>test run: anemic domain model</td>\n",
       "      <td>dwnl_adm_new_reporting_2021_02_05_#3</td>\n",
       "      <td>...</td>\n",
       "      <td>{'step': '#3', 'label': 'dwnl_adm_new_reportin...</td>\n",
       "      <td>0</td>\n",
       "      <td>None</td>\n",
       "      <td>[dwnl_adm_new_reporting_2021_02_05_#1, dwnl_ad...</td>\n",
       "      <td>test</td>\n",
       "    </tr>\n",
       "    <tr>\n",
       "      <th>#4</th>\n",
       "      <td>so-analysis</td>\n",
       "      <td>so-analysis</td>\n",
       "      <td>803fb75f-eea8-4529-a1e9-55299035f152</td>\n",
       "      <td>test run: anemic domain model</td>\n",
       "      <td>vect_adm_new_reporting_2021_02_05</td>\n",
       "      <td>...</td>\n",
       "      <td>{'step': '#4', 'label': 'vect_adm_new_reportin...</td>\n",
       "      <td>0</td>\n",
       "      <td>None</td>\n",
       "      <td>[dwnl_adm_new_reporting_2021_02_05_#1, dwnl_ad...</td>\n",
       "      <td>test</td>\n",
       "    </tr>\n",
       "    <tr>\n",
       "      <th>#5</th>\n",
       "      <td>so-analysis</td>\n",
       "      <td>so-analysis</td>\n",
       "      <td>803fb75f-eea8-4529-a1e9-55299035f152</td>\n",
       "      <td>test run: anemic domain model</td>\n",
       "      <td>vect_adm_new_reporting_2021_02_05</td>\n",
       "      <td>...</td>\n",
       "      <td>{'step': '#5', 'label': 'vect_adm_new_reportin...</td>\n",
       "      <td>0</td>\n",
       "      <td>None</td>\n",
       "      <td>[dwnl_adm_new_reporting_2021_02_05_#1, dwnl_ad...</td>\n",
       "      <td>test</td>\n",
       "    </tr>\n",
       "    <tr>\n",
       "      <th>#6</th>\n",
       "      <td>so-analysis</td>\n",
       "      <td>so-analysis</td>\n",
       "      <td>803fb75f-eea8-4529-a1e9-55299035f152</td>\n",
       "      <td>test run: anemic domain model</td>\n",
       "      <td>ml_opts_adm_new_reporting_2021_02_05</td>\n",
       "      <td>...</td>\n",
       "      <td>{'step': '#6', 'step_label': 'ml_opts_adm_new_...</td>\n",
       "      <td>0</td>\n",
       "      <td>None</td>\n",
       "      <td>[dwnl_adm_new_reporting_2021_02_05_#1, dwnl_ad...</td>\n",
       "      <td>test</td>\n",
       "    </tr>\n",
       "    <tr>\n",
       "      <th>#7</th>\n",
       "      <td>so-analysis</td>\n",
       "      <td>so-analysis</td>\n",
       "      <td>803fb75f-eea8-4529-a1e9-55299035f152</td>\n",
       "      <td>test run: anemic domain model</td>\n",
       "      <td>rep_adm_new_reporting_2021_02_05</td>\n",
       "      <td>...</td>\n",
       "      <td>[{'step': '#7', 'step_label': 'rep_adm_new_rep...</td>\n",
       "      <td>0</td>\n",
       "      <td>None</td>\n",
       "      <td>[dwnl_adm_new_reporting_2021_02_05_#1, dwnl_ad...</td>\n",
       "      <td>test</td>\n",
       "    </tr>\n",
       "    <tr>\n",
       "      <th>#8</th>\n",
       "      <td>so-analysis</td>\n",
       "      <td>so-analysis</td>\n",
       "      <td>803fb75f-eea8-4529-a1e9-55299035f152</td>\n",
       "      <td>test run: anemic domain model</td>\n",
       "      <td>reporting_eef6eb90-904e-468e-bbf8-17f5e897d359</td>\n",
       "      <td>...</td>\n",
       "      <td>[{'step': '#1', 'label': 'dwnl_adm_new_reporti...</td>\n",
       "      <td>0</td>\n",
       "      <td>None</td>\n",
       "      <td>[dwnl_adm_new_reporting_2021_02_05_#1, dwnl_ad...</td>\n",
       "      <td>test</td>\n",
       "    </tr>\n",
       "  </tbody>\n",
       "</table>\n",
       "<p>8 rows × 13 columns</p>\n",
       "</div>"
      ],
      "text/plain": [
       "        flow_name      flow_id                           flow_run_id                  flow_run_name                                      step_label  ...                                             result exit_code exit_msg                                     prev_step_lbls  modus\n",
       "step                                                                                                                                                 ...                                                                                                                                \n",
       "#1    so-analysis  so-analysis  803fb75f-eea8-4529-a1e9-55299035f152  test run: anemic domain model            dwnl_adm_new_reporting_2021_02_05_#1  ...  {'step': '#1', 'label': 'dwnl_adm_new_reportin...         0     None                                                 []   test\n",
       "#2    so-analysis  so-analysis  803fb75f-eea8-4529-a1e9-55299035f152  test run: anemic domain model            dwnl_adm_new_reporting_2021_02_05_#2  ...  {'step': '#2', 'label': 'dwnl_adm_new_reportin...         0     None             [dwnl_adm_new_reporting_2021_02_05_#1]   test\n",
       "#3    so-analysis  so-analysis  803fb75f-eea8-4529-a1e9-55299035f152  test run: anemic domain model            dwnl_adm_new_reporting_2021_02_05_#3  ...  {'step': '#3', 'label': 'dwnl_adm_new_reportin...         0     None  [dwnl_adm_new_reporting_2021_02_05_#1, dwnl_ad...   test\n",
       "#4    so-analysis  so-analysis  803fb75f-eea8-4529-a1e9-55299035f152  test run: anemic domain model               vect_adm_new_reporting_2021_02_05  ...  {'step': '#4', 'label': 'vect_adm_new_reportin...         0     None  [dwnl_adm_new_reporting_2021_02_05_#1, dwnl_ad...   test\n",
       "#5    so-analysis  so-analysis  803fb75f-eea8-4529-a1e9-55299035f152  test run: anemic domain model               vect_adm_new_reporting_2021_02_05  ...  {'step': '#5', 'label': 'vect_adm_new_reportin...         0     None  [dwnl_adm_new_reporting_2021_02_05_#1, dwnl_ad...   test\n",
       "#6    so-analysis  so-analysis  803fb75f-eea8-4529-a1e9-55299035f152  test run: anemic domain model            ml_opts_adm_new_reporting_2021_02_05  ...  {'step': '#6', 'step_label': 'ml_opts_adm_new_...         0     None  [dwnl_adm_new_reporting_2021_02_05_#1, dwnl_ad...   test\n",
       "#7    so-analysis  so-analysis  803fb75f-eea8-4529-a1e9-55299035f152  test run: anemic domain model                rep_adm_new_reporting_2021_02_05  ...  [{'step': '#7', 'step_label': 'rep_adm_new_rep...         0     None  [dwnl_adm_new_reporting_2021_02_05_#1, dwnl_ad...   test\n",
       "#8    so-analysis  so-analysis  803fb75f-eea8-4529-a1e9-55299035f152  test run: anemic domain model  reporting_eef6eb90-904e-468e-bbf8-17f5e897d359  ...  [{'step': '#1', 'label': 'dwnl_adm_new_reporti...         0     None  [dwnl_adm_new_reporting_2021_02_05_#1, dwnl_ad...   test\n",
       "\n",
       "[8 rows x 13 columns]"
      ]
     },
     "metadata": {},
     "output_type": "display_data"
    },
    {
     "data": {
      "text/html": [
       "<hr width=\"85%\" align=\"left\">"
      ],
      "text/plain": [
       "<IPython.core.display.HTML object>"
      ]
     },
     "metadata": {},
     "output_type": "display_data"
    },
    {
     "name": "stdout",
     "output_type": "stream",
     "text": [
      "\n"
     ]
    },
    {
     "data": {
      "text/html": [
       "<h1>Further jobs available\"</h1>"
      ],
      "text/plain": [
       "<IPython.core.display.HTML object>"
      ]
     },
     "metadata": {},
     "output_type": "display_data"
    },
    {
     "data": {
      "text/html": [
       "<div>\n",
       "<style scoped>\n",
       "    .dataframe tbody tr th:only-of-type {\n",
       "        vertical-align: middle;\n",
       "    }\n",
       "\n",
       "    .dataframe tbody tr th {\n",
       "        vertical-align: top;\n",
       "    }\n",
       "\n",
       "    .dataframe thead th {\n",
       "        text-align: right;\n",
       "    }\n",
       "</style>\n",
       "<table border=\"1\" class=\"dataframe\">\n",
       "  <thead>\n",
       "    <tr style=\"text-align: right;\">\n",
       "      <th></th>\n",
       "      <th>description</th>\n",
       "      <th>flow_name</th>\n",
       "      <th>flow_id</th>\n",
       "      <th>flow_run_id</th>\n",
       "      <th>flow_run_name</th>\n",
       "      <th>...</th>\n",
       "      <th>flow_opts</th>\n",
       "      <th>result</th>\n",
       "      <th>step_2_info</th>\n",
       "      <th>use_step_label</th>\n",
       "      <th>use_step_step</th>\n",
       "    </tr>\n",
       "  </thead>\n",
       "  <tbody>\n",
       "    <tr>\n",
       "      <th>0</th>\n",
       "      <td>Flows for anemic domain models (for testing an...</td>\n",
       "      <td>so-analysis</td>\n",
       "      <td>fee42c05-c884-4c9e-9ef1-cae85d549cdd</td>\n",
       "      <td>803fb75f-eea8-4529-a1e9-55299035f152</td>\n",
       "      <td>test run: anemic domain model</td>\n",
       "      <td>...</td>\n",
       "      <td>{'description': 'Flows for anemic domain model...</td>\n",
       "      <td>[{'step': '#1', 'label': 'dwnl_adm_new_reporti...</td>\n",
       "      <td>{'#1': {'step': '#1', 'label': 'dwnl_adm_new_r...</td>\n",
       "      <td>None</td>\n",
       "      <td>None</td>\n",
       "    </tr>\n",
       "  </tbody>\n",
       "</table>\n",
       "<p>1 rows × 22 columns</p>\n",
       "</div>"
      ],
      "text/plain": [
       "                                         description    flow_name                               flow_id                           flow_run_id                  flow_run_name  ...                                          flow_opts                                             result                                        step_2_info use_step_label use_step_step\n",
       "0  Flows for anemic domain models (for testing an...  so-analysis  fee42c05-c884-4c9e-9ef1-cae85d549cdd  803fb75f-eea8-4529-a1e9-55299035f152  test run: anemic domain model  ...  {'description': 'Flows for anemic domain model...  [{'step': '#1', 'label': 'dwnl_adm_new_reporti...  {'#1': {'step': '#1', 'label': 'dwnl_adm_new_r...           None          None\n",
       "\n",
       "[1 rows x 22 columns]"
      ]
     },
     "execution_count": 23,
     "metadata": {},
     "output_type": "execute_result"
    }
   ],
   "source": [
    "all_jobs = so_ana_reporting.ReportingDataAccess.load_all_job_data(deps.conn)\n",
    "flow_run_id = all_jobs.sort_values('started_at_timest', ascending=False).iloc[0, :]['flow_run_id']\n",
    "\n",
    "display(HTML(f'<h1>Last flow-run-id is: \"{flow_run_id}\"\"</h1>'))\n",
    "display(HTML('<hr width=\"85%\" align=\"left\">'))\n",
    "print()\n",
    "\n",
    "all_steps = so_ana_reporting.ReportingDataAccess.load_all_step_data_for_flow_run_id(  connection=deps.conn,\n",
    "                                                                                      flow_run_id=flow_run_id)\n",
    "display(HTML(f'<h1>Steps for flow-run-id=\"{flow_run_id}\"</h1>'))\n",
    "display(all_steps.sort_index())\n",
    "\n",
    "display(HTML('<hr width=\"85%\" align=\"left\">'))\n",
    "print()\n",
    "display(HTML(f'<h1>Further jobs available\"</h1>'))\n",
    "all_jobs"
   ]
  },
  {
   "cell_type": "markdown",
   "metadata": {},
   "source": [
    "# Define relevant graph object "
   ]
  },
  {
   "cell_type": "code",
   "execution_count": 24,
   "metadata": {},
   "outputs": [],
   "source": [
    "@dataclass(frozen=True)\n",
    "class DocInfo:\n",
    "    post_id: int\n",
    "        \n",
    "@dataclass(frozen=True)\n",
    "class UserInfo:\n",
    "    user_url: str\n",
    "               \n",
    "        \n",
    "def multi_graph_2_weighted_graph(gr):\n",
    "    if gr.is_directed():\n",
    "        new_gr = nx.DiGraph(name='Reduced' + gr.graph['name'])\n",
    "    else:\n",
    "        new_gr = nx.Graph(name='Reduced' + gr.graph['name'])\n",
    "    \n",
    "    for node in gr.nodes:\n",
    "        new_gr.add_node(node)\n",
    "    \n",
    "    for edge in gr.edges:\n",
    "        if new_gr.has_edge(edge[0], edge[1]):\n",
    "            new_gr[edge[0]][edge[1]]['weight'] += 1\n",
    "        else:\n",
    "            new_gr.add_edge(edge[0], edge[1], weight=1)\n",
    "            \n",
    "    return new_gr\n",
    "\n",
    "def reverse(gr):\n",
    "    res = gr.reverse(copy=True)\n",
    "    res.graph['name'] = 'Reversed' + res.graph['name']\n",
    "    return res\n",
    "\n",
    "    \n",
    "class DocUserGraph:\n",
    "    \n",
    "    def __init__(self):\n",
    "        self.G = nx.MultiDiGraph()\n",
    "        \n",
    "    def add_document(self,post_id, user_url, topic_tuple, answ_user_url_lst):\n",
    "        doc_node = DocInfo(post_id=post_id)\n",
    "        user_node = UserInfo(user_url=user_url)\n",
    "        self.G.add_node(doc_node, topic_weights=np.array(topic_tuple))\n",
    "        self.G.add_node(user_node)\n",
    "        self.G.add_edge(doc_node, user_node)\n",
    "        for item in answ_user_url_lst:\n",
    "            answ_user_node = UserInfo(user_url=item)\n",
    "            self.G.add_node(answ_user_node)\n",
    "            self.G.add_edge(answ_user_node, doc_node)\n",
    "    \n",
    "    def _get_user_weight(self, user_info):\n",
    "        weight = None\n",
    "        for ng in  itertools.chain(self.G.successors(user_info), self.G.predecessors(user_info)):\n",
    "            if weight is None:\n",
    "                weight = np.copy(self.G.nodes[ng]['topic_weights'])\n",
    "            else:\n",
    "                weight += self.G.nodes[ng]['topic_weights']         \n",
    "                \n",
    "        return weight / np.sum(weight)\n",
    "    \n",
    "    @property        \n",
    "    def user_response_graph(self):\n",
    "        new_gr = nx.MultiDiGraph(name='UserResponseGraph')\n",
    "        for node in self.G:\n",
    "            if isinstance(node, UserInfo):\n",
    "                weight = self._get_user_weight(node)\n",
    "                new_gr.add_node(node, topic_weights=weight)\n",
    "                for ng1 in self.G.successors(node):\n",
    "                    for ng2 in self.G.successors(ng1):\n",
    "                        if not ng2 == UserInfo(None):\n",
    "                            weight2 = self._get_user_weight(ng2)\n",
    "                            new_gr.add_node(ng2, topic_weights=weight2)\n",
    "                            new_gr.add_edge(node, ng2)             \n",
    "        return new_gr\n",
    "    \n",
    "    @property \n",
    "    def document_contr_graph(self):\n",
    "        new_gr = nx.MultiGraph(name='DocumentUserSharedGraph')\n",
    "        node_set = set()\n",
    "        for node in self.G:\n",
    "            if isinstance(node, DocInfo):\n",
    "                weight = self.G.nodes[node]['topic_weights']\n",
    "                new_gr.add_node(node, topic_weights=weight)\n",
    "                node_set.add(node)\n",
    "                for ng1 in itertools.chain(self.G.successors(node), self.G.predecessors(node)):\n",
    "                    for ng2 in itertools.chain(self.G.successors(ng1), self.G.predecessors(ng1)):\n",
    "                        if not ng2 in node_set:\n",
    "                            weight2 = self.G.nodes[ng2]['topic_weights']\n",
    "                            new_gr.add_node(ng2, weight_vector=weight2)\n",
    "                            new_gr.add_edge(node, ng2)\n",
    "        return new_gr\n",
    "        "
   ]
  },
  {
   "cell_type": "markdown",
   "metadata": {},
   "source": [
    "# Construct basic graph"
   ]
  },
  {
   "cell_type": "code",
   "execution_count": 25,
   "metadata": {},
   "outputs": [
    {
     "data": {
      "text/html": [
       "<h2>Constructing document-user graph...</h2><div>Progress: 100.0000%</div><div style=\"width:500px;height:30px;border:1px solid #000;\"><div style=\"width:498px;height:28px;border:1px solid #000;background-color:DodgerBlue;color:White\"></div></div><div>Duration: 0:00:00.330512</div>"
      ],
      "text/plain": [
       "<IPython.core.display.HTML object>"
      ]
     },
     "metadata": {},
     "output_type": "display_data"
    }
   ],
   "source": [
    "# get document iterator for relevant step\n",
    "doc_iterator = data_access.get_doc_iterator(connection=deps.conn,\n",
    "                                            d2es_obj=deps.d2es,\n",
    "                                            step_label=all_steps.loc['#3']['step_label'],\n",
    "                                            format = 'all_#3',\n",
    "                                            ml_tags=None\n",
    "                    )\n",
    "\n",
    "nr_docs = len(doc_iterator)\n",
    "\n",
    "# create relevant graph\n",
    "graph = DocUserGraph()\n",
    "\n",
    "query = 'select user_url from so_ana_doc_worker.page_meta_info ' \\\n",
    "        'where step=%(step)s and step_label=%(step_label)s and post_id=%(post_id)s'\n",
    "\n",
    "query2 = 'select topic_id, topic_weight from so_ana_analysis.topic_distribution '\\\n",
    "         'where step=%(step)s and step_label=%(step_label)s and post_id=%(post_id)s order by topic_id asc'\n",
    "\n",
    "progr_bar = ProgressBar('Constructing document-user graph...')\n",
    "\n",
    "for i, qu in enumerate(doc_iterator):\n",
    "    if i % 10 == 0:\n",
    "        progr_bar.update_progress(i/nr_docs)\n",
    "    res = deps.conn.execute(query,   {'step': '#1',\n",
    "                                      'step_label': all_steps.loc['#1']['step_label'],\n",
    "                                      'post_id': qu.post_id\n",
    "                             }).fetchone()[0]\n",
    "    weight_res = {item[0]: item[1] for item in  deps.conn.execute(query2,   { 'step': '#7',\n",
    "                                                                              'step_label': all_steps.loc['#7']['step_label'],\n",
    "                                                                              'post_id': qu.post_id\n",
    "                                                                     }\n",
    "                                                          )\n",
    "                 }\n",
    "    graph.add_document(post_id=qu.post_id, user_url=res,  topic_tuple=tuple([weight_res.get(i, 0) for i in range(nr_topics)]), answ_user_url_lst=[answ.user_url for answ in qu.answers])\n",
    "\n",
    "progr_bar.update_progress(1.0)"
   ]
  },
  {
   "cell_type": "markdown",
   "metadata": {},
   "source": [
    "# Load relevant data into pandas data frames \"user_response_data\" and \"doc_response_data\""
   ]
  },
  {
   "cell_type": "code",
   "execution_count": 26,
   "metadata": {},
   "outputs": [
    {
     "data": {
      "text/html": [
       "<h1>User response graph</h1>"
      ],
      "text/plain": [
       "<IPython.core.display.HTML object>"
      ]
     },
     "metadata": {},
     "output_type": "display_data"
    },
    {
     "data": {
      "text/html": [
       "<div>\n",
       "<style scoped>\n",
       "    .dataframe tbody tr th:only-of-type {\n",
       "        vertical-align: middle;\n",
       "    }\n",
       "\n",
       "    .dataframe tbody tr th {\n",
       "        vertical-align: top;\n",
       "    }\n",
       "\n",
       "    .dataframe thead th {\n",
       "        text-align: right;\n",
       "    }\n",
       "</style>\n",
       "<table border=\"1\" class=\"dataframe\">\n",
       "  <thead>\n",
       "    <tr style=\"text-align: right;\">\n",
       "      <th></th>\n",
       "      <th>user</th>\n",
       "      <th>in degree</th>\n",
       "      <th>out degree</th>\n",
       "      <th>degree difference</th>\n",
       "      <th>weight 0</th>\n",
       "      <th>...</th>\n",
       "      <th>weight 5</th>\n",
       "      <th>weight 6</th>\n",
       "      <th>weight 7</th>\n",
       "      <th>weight 8</th>\n",
       "      <th>weight 9</th>\n",
       "    </tr>\n",
       "  </thead>\n",
       "  <tbody>\n",
       "    <tr>\n",
       "      <th>0</th>\n",
       "      <td>/users/3090433/yassine-bsf</td>\n",
       "      <td>2</td>\n",
       "      <td>0</td>\n",
       "      <td>-2</td>\n",
       "      <td>0.0</td>\n",
       "      <td>...</td>\n",
       "      <td>0.0</td>\n",
       "      <td>0.0</td>\n",
       "      <td>0.0</td>\n",
       "      <td>0.0</td>\n",
       "      <td>0.0</td>\n",
       "    </tr>\n",
       "    <tr>\n",
       "      <th>1</th>\n",
       "      <td>/users/54734/voiceofunreason</td>\n",
       "      <td>0</td>\n",
       "      <td>3</td>\n",
       "      <td>3</td>\n",
       "      <td>0.0</td>\n",
       "      <td>...</td>\n",
       "      <td>0.0</td>\n",
       "      <td>0.0</td>\n",
       "      <td>0.0</td>\n",
       "      <td>0.0</td>\n",
       "      <td>0.0</td>\n",
       "    </tr>\n",
       "    <tr>\n",
       "      <th>2</th>\n",
       "      <td>/users/3132197/yevgenyl</td>\n",
       "      <td>2</td>\n",
       "      <td>0</td>\n",
       "      <td>-2</td>\n",
       "      <td>0.0</td>\n",
       "      <td>...</td>\n",
       "      <td>0.0</td>\n",
       "      <td>0.0</td>\n",
       "      <td>0.0</td>\n",
       "      <td>0.0</td>\n",
       "      <td>0.0</td>\n",
       "    </tr>\n",
       "    <tr>\n",
       "      <th>3</th>\n",
       "      <td>/users/2579875/born-free</td>\n",
       "      <td>2</td>\n",
       "      <td>0</td>\n",
       "      <td>-2</td>\n",
       "      <td>0.0</td>\n",
       "      <td>...</td>\n",
       "      <td>0.0</td>\n",
       "      <td>0.0</td>\n",
       "      <td>0.0</td>\n",
       "      <td>0.0</td>\n",
       "      <td>0.0</td>\n",
       "    </tr>\n",
       "    <tr>\n",
       "      <th>4</th>\n",
       "      <td>/users/188138/brad-irby</td>\n",
       "      <td>0</td>\n",
       "      <td>1</td>\n",
       "      <td>1</td>\n",
       "      <td>0.0</td>\n",
       "      <td>...</td>\n",
       "      <td>0.0</td>\n",
       "      <td>0.0</td>\n",
       "      <td>0.0</td>\n",
       "      <td>0.0</td>\n",
       "      <td>0.0</td>\n",
       "    </tr>\n",
       "  </tbody>\n",
       "</table>\n",
       "<p>5 rows × 14 columns</p>\n",
       "</div>"
      ],
      "text/plain": [
       "                           user  in degree  out degree  degree difference  weight 0  ...  weight 5  weight 6  weight 7  weight 8  weight 9\n",
       "0    /users/3090433/yassine-bsf          2           0                 -2       0.0  ...       0.0       0.0       0.0       0.0       0.0\n",
       "1  /users/54734/voiceofunreason          0           3                  3       0.0  ...       0.0       0.0       0.0       0.0       0.0\n",
       "2       /users/3132197/yevgenyl          2           0                 -2       0.0  ...       0.0       0.0       0.0       0.0       0.0\n",
       "3      /users/2579875/born-free          2           0                 -2       0.0  ...       0.0       0.0       0.0       0.0       0.0\n",
       "4       /users/188138/brad-irby          0           1                  1       0.0  ...       0.0       0.0       0.0       0.0       0.0\n",
       "\n",
       "[5 rows x 14 columns]"
      ]
     },
     "metadata": {},
     "output_type": "display_data"
    },
    {
     "data": {
      "text/html": [
       "<h1>Doc contribution graph</h1>"
      ],
      "text/plain": [
       "<IPython.core.display.HTML object>"
      ]
     },
     "metadata": {},
     "output_type": "display_data"
    },
    {
     "data": {
      "text/html": [
       "<div>\n",
       "<style scoped>\n",
       "    .dataframe tbody tr th:only-of-type {\n",
       "        vertical-align: middle;\n",
       "    }\n",
       "\n",
       "    .dataframe tbody tr th {\n",
       "        vertical-align: top;\n",
       "    }\n",
       "\n",
       "    .dataframe thead th {\n",
       "        text-align: right;\n",
       "    }\n",
       "</style>\n",
       "<table border=\"1\" class=\"dataframe\">\n",
       "  <thead>\n",
       "    <tr style=\"text-align: right;\">\n",
       "      <th></th>\n",
       "      <th>document</th>\n",
       "      <th>degree</th>\n",
       "      <th>weight 0</th>\n",
       "      <th>weight 1</th>\n",
       "      <th>weight 2</th>\n",
       "      <th>...</th>\n",
       "      <th>weight 5</th>\n",
       "      <th>weight 6</th>\n",
       "      <th>weight 7</th>\n",
       "      <th>weight 8</th>\n",
       "      <th>weight 9</th>\n",
       "    </tr>\n",
       "  </thead>\n",
       "  <tbody>\n",
       "    <tr>\n",
       "      <th>0</th>\n",
       "      <td>51193522</td>\n",
       "      <td>2</td>\n",
       "      <td>0.0</td>\n",
       "      <td>0.991464</td>\n",
       "      <td>0.000000</td>\n",
       "      <td>...</td>\n",
       "      <td>0.0</td>\n",
       "      <td>0.0</td>\n",
       "      <td>0.0</td>\n",
       "      <td>0.0</td>\n",
       "      <td>0.0</td>\n",
       "    </tr>\n",
       "    <tr>\n",
       "      <th>1</th>\n",
       "      <td>70314017</td>\n",
       "      <td>2</td>\n",
       "      <td>0.0</td>\n",
       "      <td>0.997070</td>\n",
       "      <td>0.000000</td>\n",
       "      <td>...</td>\n",
       "      <td>0.0</td>\n",
       "      <td>0.0</td>\n",
       "      <td>0.0</td>\n",
       "      <td>0.0</td>\n",
       "      <td>0.0</td>\n",
       "    </tr>\n",
       "    <tr>\n",
       "      <th>2</th>\n",
       "      <td>42259941</td>\n",
       "      <td>2</td>\n",
       "      <td>0.0</td>\n",
       "      <td>0.996784</td>\n",
       "      <td>0.000000</td>\n",
       "      <td>...</td>\n",
       "      <td>0.0</td>\n",
       "      <td>0.0</td>\n",
       "      <td>0.0</td>\n",
       "      <td>0.0</td>\n",
       "      <td>0.0</td>\n",
       "    </tr>\n",
       "    <tr>\n",
       "      <th>3</th>\n",
       "      <td>29618269</td>\n",
       "      <td>0</td>\n",
       "      <td>0.0</td>\n",
       "      <td>0.994720</td>\n",
       "      <td>0.000000</td>\n",
       "      <td>...</td>\n",
       "      <td>0.0</td>\n",
       "      <td>0.0</td>\n",
       "      <td>0.0</td>\n",
       "      <td>0.0</td>\n",
       "      <td>0.0</td>\n",
       "    </tr>\n",
       "    <tr>\n",
       "      <th>4</th>\n",
       "      <td>22408046</td>\n",
       "      <td>0</td>\n",
       "      <td>0.0</td>\n",
       "      <td>0.944577</td>\n",
       "      <td>0.026365</td>\n",
       "      <td>...</td>\n",
       "      <td>0.0</td>\n",
       "      <td>0.0</td>\n",
       "      <td>0.0</td>\n",
       "      <td>0.0</td>\n",
       "      <td>0.0</td>\n",
       "    </tr>\n",
       "  </tbody>\n",
       "</table>\n",
       "<p>5 rows × 12 columns</p>\n",
       "</div>"
      ],
      "text/plain": [
       "   document  degree  weight 0  weight 1  weight 2  ...  weight 5  weight 6  weight 7  weight 8  weight 9\n",
       "0  51193522       2       0.0  0.991464  0.000000  ...       0.0       0.0       0.0       0.0       0.0\n",
       "1  70314017       2       0.0  0.997070  0.000000  ...       0.0       0.0       0.0       0.0       0.0\n",
       "2  42259941       2       0.0  0.996784  0.000000  ...       0.0       0.0       0.0       0.0       0.0\n",
       "3  29618269       0       0.0  0.994720  0.000000  ...       0.0       0.0       0.0       0.0       0.0\n",
       "4  22408046       0       0.0  0.944577  0.026365  ...       0.0       0.0       0.0       0.0       0.0\n",
       "\n",
       "[5 rows x 12 columns]"
      ]
     },
     "metadata": {},
     "output_type": "display_data"
    }
   ],
   "source": [
    "def user_iterator(user_response_graph):\n",
    "    for node in user_response_graph.nodes():\n",
    "        wv = user_response_graph.nodes[node]['topic_weights']\n",
    "        in_deg = user_response_graph.in_degree(node)\n",
    "        out_deg = user_response_graph.out_degree(node)\n",
    "        yield [node.user_url, in_deg, out_deg, out_deg-in_deg] + wv.tolist()\n",
    "\n",
    "        \n",
    "def doc_iterator(doc_graph):\n",
    "        for node in doc_graph.nodes():\n",
    "            wv = doc_graph.nodes[node]['topic_weights']\n",
    "            yield [node.post_id, doc_graph.degree(node)] + wv.tolist()\n",
    "\n",
    "    \n",
    "    \n",
    "user_response_graph = graph.user_response_graph        \n",
    "user_response_data = pd.DataFrame.from_records(user_iterator(user_response_graph), columns=['user', 'in degree', 'out degree', 'degree difference'] + [f'weight {i}' for i in range(nr_topics)])\n",
    "\n",
    "display(HTML('<h1>User response graph</h1>'))\n",
    "display(user_response_data.head())\n",
    "\n",
    "doc_graph = graph.document_contr_graph\n",
    "doc_response_data = pd.DataFrame.from_records(doc_iterator(doc_graph), columns=['document', 'degree'] + [f'weight {i}' for i in range(nr_topics)])\n",
    "\n",
    "display(HTML('<h1>Doc contribution graph</h1>'))\n",
    "display(doc_response_data.head())\n",
    "\n",
    "\n"
   ]
  },
  {
   "cell_type": "markdown",
   "metadata": {},
   "source": [
    "# Augment node level graph data"
   ]
  },
  {
   "cell_type": "code",
   "execution_count": 27,
   "metadata": {},
   "outputs": [
    {
     "data": {
      "text/html": [
       "<h2>DocumentUserSharedGraph</h2>"
      ],
      "text/plain": [
       "<IPython.core.display.HTML object>"
      ]
     },
     "metadata": {},
     "output_type": "display_data"
    },
    {
     "name": "stdout",
     "output_type": "stream",
     "text": [
      "calculating \"centrality_degree\" for graph \"DocumentUserSharedGraph\"...\n",
      "calculating \"centrality_eigenvector\" for graph \"DocumentUserSharedGraph\"...\n"
     ]
    },
    {
     "ename": "PowerIterationFailedConvergence",
     "evalue": "(PowerIterationFailedConvergence(...), 'power iteration failed to converge within 100 iterations')",
     "output_type": "error",
     "traceback": [
      "\u001b[1;31m---------------------------------------------------------------------------\u001b[0m",
      "\u001b[1;31mPowerIterationFailedConvergence\u001b[0m           Traceback (most recent call last)",
      "\u001b[1;32m<ipython-input-27-48911cdacec8>\u001b[0m in \u001b[0;36m<module>\u001b[1;34m\u001b[0m\n\u001b[0;32m     75\u001b[0m     \u001b[0mgr_name\u001b[0m \u001b[1;33m=\u001b[0m \u001b[0mrel_gr\u001b[0m\u001b[1;33m.\u001b[0m\u001b[0mgraph\u001b[0m\u001b[1;33m[\u001b[0m\u001b[1;34m'name'\u001b[0m\u001b[1;33m]\u001b[0m\u001b[1;33m\u001b[0m\u001b[1;33m\u001b[0m\u001b[0m\n\u001b[0;32m     76\u001b[0m     \u001b[0mdisplay\u001b[0m\u001b[1;33m(\u001b[0m\u001b[0mHTML\u001b[0m\u001b[1;33m(\u001b[0m\u001b[1;34mf'<h2>{gr_name}</h2>'\u001b[0m\u001b[1;33m)\u001b[0m\u001b[1;33m)\u001b[0m\u001b[1;33m\u001b[0m\u001b[1;33m\u001b[0m\u001b[0m\n\u001b[1;32m---> 77\u001b[1;33m     \u001b[0mrel_data\u001b[0m \u001b[1;33m=\u001b[0m \u001b[0maugment_centralities\u001b[0m\u001b[1;33m(\u001b[0m\u001b[0mrel_data\u001b[0m\u001b[1;33m,\u001b[0m \u001b[0mrel_gr\u001b[0m\u001b[1;33m)\u001b[0m\u001b[1;33m\u001b[0m\u001b[1;33m\u001b[0m\u001b[0m\n\u001b[0m\u001b[0;32m     78\u001b[0m     \u001b[0mdisplay\u001b[0m\u001b[1;33m(\u001b[0m\u001b[0mrel_data\u001b[0m\u001b[1;33m.\u001b[0m\u001b[0mhead\u001b[0m\u001b[1;33m(\u001b[0m\u001b[1;33m)\u001b[0m\u001b[1;33m)\u001b[0m\u001b[1;33m\u001b[0m\u001b[1;33m\u001b[0m\u001b[0m\n",
      "\u001b[1;32m<ipython-input-27-48911cdacec8>\u001b[0m in \u001b[0;36maugment_centralities\u001b[1;34m(df, graph)\u001b[0m\n\u001b[0;32m     64\u001b[0m     \u001b[1;32mfor\u001b[0m \u001b[0mlabel\u001b[0m\u001b[1;33m,\u001b[0m \u001b[0malg\u001b[0m\u001b[1;33m,\u001b[0m \u001b[0mkwargs\u001b[0m \u001b[1;32min\u001b[0m \u001b[0mlbl_lst\u001b[0m\u001b[1;33m:\u001b[0m\u001b[1;33m\u001b[0m\u001b[1;33m\u001b[0m\u001b[0m\n\u001b[0;32m     65\u001b[0m         \u001b[0mprint\u001b[0m\u001b[1;33m(\u001b[0m\u001b[1;34mf'calculating \"{label}\" for graph \"{gr_name}\"...'\u001b[0m\u001b[1;33m)\u001b[0m\u001b[1;33m\u001b[0m\u001b[1;33m\u001b[0m\u001b[0m\n\u001b[1;32m---> 66\u001b[1;33m         \u001b[0mres_dict\u001b[0m\u001b[1;33m[\u001b[0m\u001b[0mlabel\u001b[0m\u001b[1;33m]\u001b[0m \u001b[1;33m=\u001b[0m \u001b[0malg\u001b[0m\u001b[1;33m(\u001b[0m\u001b[0mred_graph\u001b[0m\u001b[1;33m,\u001b[0m \u001b[1;33m**\u001b[0m\u001b[0mkwargs\u001b[0m\u001b[1;33m)\u001b[0m\u001b[1;33m\u001b[0m\u001b[1;33m\u001b[0m\u001b[0m\n\u001b[0m\u001b[0;32m     67\u001b[0m \u001b[1;33m\u001b[0m\u001b[0m\n\u001b[0;32m     68\u001b[0m     \u001b[1;32mfor\u001b[0m \u001b[0mlabel\u001b[0m\u001b[1;33m,\u001b[0m \u001b[0mrel_dict\u001b[0m \u001b[1;32min\u001b[0m \u001b[0mres_dict\u001b[0m\u001b[1;33m.\u001b[0m\u001b[0mitems\u001b[0m\u001b[1;33m(\u001b[0m\u001b[1;33m)\u001b[0m\u001b[1;33m:\u001b[0m\u001b[1;33m\u001b[0m\u001b[1;33m\u001b[0m\u001b[0m\n",
      "\u001b[1;32mc:\\users\\d91109\\documents\\work\\git\\mba\\python\\venv\\lib\\site-packages\\networkx\\utils\\decorators.py\u001b[0m in \u001b[0;36margmap_eigenvector_centrality_1\u001b[1;34m(G, max_iter, tol, nstart, weight)\u001b[0m\n\u001b[0;32m      2\u001b[0m \u001b[1;32mfrom\u001b[0m \u001b[0mos\u001b[0m\u001b[1;33m.\u001b[0m\u001b[0mpath\u001b[0m \u001b[1;32mimport\u001b[0m \u001b[0msplitext\u001b[0m\u001b[1;33m\u001b[0m\u001b[1;33m\u001b[0m\u001b[0m\n\u001b[0;32m      3\u001b[0m \u001b[1;32mfrom\u001b[0m \u001b[0mcontextlib\u001b[0m \u001b[1;32mimport\u001b[0m \u001b[0mcontextmanager\u001b[0m\u001b[1;33m\u001b[0m\u001b[1;33m\u001b[0m\u001b[0m\n\u001b[1;32m----> 4\u001b[1;33m \u001b[1;32mfrom\u001b[0m \u001b[0mpathlib\u001b[0m \u001b[1;32mimport\u001b[0m \u001b[0mPath\u001b[0m\u001b[1;33m\u001b[0m\u001b[1;33m\u001b[0m\u001b[0m\n\u001b[0m\u001b[0;32m      5\u001b[0m \u001b[1;32mimport\u001b[0m \u001b[0mwarnings\u001b[0m\u001b[1;33m\u001b[0m\u001b[1;33m\u001b[0m\u001b[0m\n\u001b[0;32m      6\u001b[0m \u001b[1;33m\u001b[0m\u001b[0m\n",
      "\u001b[1;32mc:\\users\\d91109\\documents\\work\\git\\mba\\python\\venv\\lib\\site-packages\\networkx\\algorithms\\centrality\\eigenvector.py\u001b[0m in \u001b[0;36meigenvector_centrality\u001b[1;34m(G, max_iter, tol, nstart, weight)\u001b[0m\n\u001b[0;32m    136\u001b[0m         \u001b[1;32mif\u001b[0m \u001b[0msum\u001b[0m\u001b[1;33m(\u001b[0m\u001b[0mabs\u001b[0m\u001b[1;33m(\u001b[0m\u001b[0mx\u001b[0m\u001b[1;33m[\u001b[0m\u001b[0mn\u001b[0m\u001b[1;33m]\u001b[0m \u001b[1;33m-\u001b[0m \u001b[0mxlast\u001b[0m\u001b[1;33m[\u001b[0m\u001b[0mn\u001b[0m\u001b[1;33m]\u001b[0m\u001b[1;33m)\u001b[0m \u001b[1;32mfor\u001b[0m \u001b[0mn\u001b[0m \u001b[1;32min\u001b[0m \u001b[0mx\u001b[0m\u001b[1;33m)\u001b[0m \u001b[1;33m<\u001b[0m \u001b[0mnnodes\u001b[0m \u001b[1;33m*\u001b[0m \u001b[0mtol\u001b[0m\u001b[1;33m:\u001b[0m\u001b[1;33m\u001b[0m\u001b[1;33m\u001b[0m\u001b[0m\n\u001b[0;32m    137\u001b[0m             \u001b[1;32mreturn\u001b[0m \u001b[0mx\u001b[0m\u001b[1;33m\u001b[0m\u001b[1;33m\u001b[0m\u001b[0m\n\u001b[1;32m--> 138\u001b[1;33m     \u001b[1;32mraise\u001b[0m \u001b[0mnx\u001b[0m\u001b[1;33m.\u001b[0m\u001b[0mPowerIterationFailedConvergence\u001b[0m\u001b[1;33m(\u001b[0m\u001b[0mmax_iter\u001b[0m\u001b[1;33m)\u001b[0m\u001b[1;33m\u001b[0m\u001b[1;33m\u001b[0m\u001b[0m\n\u001b[0m\u001b[0;32m    139\u001b[0m \u001b[1;33m\u001b[0m\u001b[0m\n\u001b[0;32m    140\u001b[0m \u001b[1;33m\u001b[0m\u001b[0m\n",
      "\u001b[1;31mPowerIterationFailedConvergence\u001b[0m: (PowerIterationFailedConvergence(...), 'power iteration failed to converge within 100 iterations')"
     ]
    }
   ],
   "source": [
    "class AugmentedMapper:\n",
    "    \n",
    "    def __init__(self, DC):\n",
    "        self.DC = DC\n",
    "        self.mapping_dict = {}\n",
    "       \n",
    "    def __call__(self, x):\n",
    "        return self.mapping_dict[self.DC(x)]     \n",
    "\n",
    "class HashedReturn:\n",
    "    \n",
    "    def __init__(self, rel_func):\n",
    "        self.rel_func = rel_func\n",
    "        self._res = None\n",
    "        self.key_hsh = ''\n",
    "        self.val_hsh = ''\n",
    "        self.gr_name = ''\n",
    "        \n",
    "    def __call__(self, gr, **kwargs):\n",
    "        recalc = (self._res is None) or (self.key_hsh != hash(tuple(kwargs.keys()))) or (self.val_hsh != hash(tuple(kwargs.values()))) or (self.gr_name != gr.graph['name'])\n",
    "        self.key_hsh =  hash(tuple(kwargs.keys()))\n",
    "        self.val_hsh = hash(tuple(kwargs.values()))\n",
    "        self.gr_name = gr.graph['name']\n",
    "        if recalc:\n",
    "            self._res = self.rel_func(gr, **kwargs)\n",
    "        return self._res\n",
    "    \n",
    "def get_projection(f, pos):\n",
    "    def _inner(*args, **kwargs):\n",
    "        return f(*args, **kwargs)[pos]\n",
    "    return _inner         \n",
    "        \n",
    "\n",
    "def augment_centralities(df, graph):\n",
    "    red_graph =  multi_graph_2_weighted_graph(graph)\n",
    "    gr_name = graph.graph['name']\n",
    "    res_dict = {}\n",
    "    if gr_name == 'UserResponseGraph':\n",
    "        aug_mapper = AugmentedMapper(UserInfo)\n",
    "        rel_label = 'user'\n",
    "        hsh_hits_func = HashedReturn(nx.algorithms.link_analysis.hits_alg.hits)\n",
    "        \n",
    "        lbl_lst = [ ('centrality_in_degree',  nx.algorithms.centrality.in_degree_centrality, {}),\n",
    "                    ('centrality_out_degree',  nx.algorithms.centrality.out_degree_centrality, {}),\n",
    "                    ('centrality_eigenvector',  nx.algorithms.centrality.eigenvector_centrality, dict(weight='weight', tol=1.0e-6)),\n",
    "                    ('centrality_page_rank',  nx.algorithms.link_analysis.pagerank_alg.pagerank, dict(alpha=0.85, weight='weight', tol=1.0e-6)),\n",
    "                    ('centrality_hits_hubs',  get_projection(hsh_hits_func, 0), {}),\n",
    "                    ('centrality_hits_authorities',  get_projection(hsh_hits_func, 1), {}),\n",
    "                    ('centrality_harmonic',  nx.algorithms.centrality.harmonic_centrality, {})\n",
    "                  ]\n",
    "    elif gr_name == 'DocumentUserSharedGraph':\n",
    "        aug_mapper = AugmentedMapper(DocInfo)\n",
    "        rel_label = 'document'\n",
    "        lbl_lst = [ ('centrality_degree',  nx.algorithms.centrality.degree_centrality, {}),\n",
    "                    ('centrality_eigenvector',  nx.algorithms.centrality.eigenvector_centrality, dict(weight='weight', tol=1.0e-6)),\n",
    "                    ('centrality_page_rank',  nx.algorithms.link_analysis.pagerank_alg.pagerank, dict(alpha=0.85, weight='weight', tol=1.0e-6)),\n",
    "                    ('centrality_harmonic',  nx.algorithms.centrality.harmonic_centrality, {})\n",
    "                  ]\n",
    "    elif gr_name == 'ReversedUserResponseGraph':\n",
    "        lbl_lst = [ ('centrality_reversed_page_rank',  nx.algorithms.link_analysis.pagerank_alg.pagerank, dict(alpha=0.85, weight='weight', tol=1.0e-6))]\n",
    "        rel_label = 'user'\n",
    "        aug_mapper = AugmentedMapper(UserInfo)\n",
    "        \n",
    "    for label, alg, kwargs in lbl_lst:\n",
    "        print(f'calculating \"{label}\" for graph \"{gr_name}\"...')\n",
    "        res_dict[label] = alg(red_graph, **kwargs)\n",
    "\n",
    "    for label, rel_dict in res_dict.items():\n",
    "        print(f'starting {label} for graph {gr_name}')\n",
    "        aug_mapper.mapping_dict = rel_dict\n",
    "        df[label] = df[rel_label].map(aug_mapper)\n",
    "    return df\n",
    "\n",
    "for rel_data, rel_gr in [(doc_response_data, doc_graph), (user_response_data, user_response_graph), (user_response_data, reverse(user_response_graph))]:\n",
    "    gr_name = rel_gr.graph['name']\n",
    "    display(HTML(f'<h2>{gr_name}</h2>'))\n",
    "    rel_data = augment_centralities(rel_data, rel_gr)  \n",
    "    display(rel_data.head()) "
   ]
  },
  {
   "cell_type": "markdown",
   "metadata": {},
   "source": [
    " # Plot histograms"
   ]
  },
  {
   "cell_type": "code",
   "execution_count": 28,
   "metadata": {},
   "outputs": [
    {
     "data": {
      "text/html": [
       "<h2>Plotting histogram for distribution of \"degree\" of graph \"DocumentUserSharedGraph\"</h2>"
      ],
      "text/plain": [
       "<IPython.core.display.HTML object>"
      ]
     },
     "metadata": {},
     "output_type": "display_data"
    },
    {
     "name": "stdout",
     "output_type": "stream",
     "text": [
      "Kennzahlen\n"
     ]
    },
    {
     "data": {
      "text/html": [
       "<div>\n",
       "<style scoped>\n",
       "    .dataframe tbody tr th:only-of-type {\n",
       "        vertical-align: middle;\n",
       "    }\n",
       "\n",
       "    .dataframe tbody tr th {\n",
       "        vertical-align: top;\n",
       "    }\n",
       "\n",
       "    .dataframe thead th {\n",
       "        text-align: right;\n",
       "    }\n",
       "</style>\n",
       "<table border=\"1\" class=\"dataframe\">\n",
       "  <thead>\n",
       "    <tr style=\"text-align: right;\">\n",
       "      <th></th>\n",
       "      <th>degree</th>\n",
       "    </tr>\n",
       "  </thead>\n",
       "  <tbody>\n",
       "    <tr>\n",
       "      <th>count</th>\n",
       "      <td>66.000000</td>\n",
       "    </tr>\n",
       "    <tr>\n",
       "      <th>mean</th>\n",
       "      <td>1.151515</td>\n",
       "    </tr>\n",
       "    <tr>\n",
       "      <th>std</th>\n",
       "      <td>1.638408</td>\n",
       "    </tr>\n",
       "    <tr>\n",
       "      <th>min</th>\n",
       "      <td>0.000000</td>\n",
       "    </tr>\n",
       "    <tr>\n",
       "      <th>0.1%</th>\n",
       "      <td>0.000000</td>\n",
       "    </tr>\n",
       "    <tr>\n",
       "      <th>1%</th>\n",
       "      <td>0.000000</td>\n",
       "    </tr>\n",
       "    <tr>\n",
       "      <th>5%</th>\n",
       "      <td>0.000000</td>\n",
       "    </tr>\n",
       "    <tr>\n",
       "      <th>10%</th>\n",
       "      <td>0.000000</td>\n",
       "    </tr>\n",
       "    <tr>\n",
       "      <th>20%</th>\n",
       "      <td>0.000000</td>\n",
       "    </tr>\n",
       "    <tr>\n",
       "      <th>30%</th>\n",
       "      <td>0.000000</td>\n",
       "    </tr>\n",
       "    <tr>\n",
       "      <th>40%</th>\n",
       "      <td>0.000000</td>\n",
       "    </tr>\n",
       "    <tr>\n",
       "      <th>50%</th>\n",
       "      <td>0.000000</td>\n",
       "    </tr>\n",
       "    <tr>\n",
       "      <th>60%</th>\n",
       "      <td>1.000000</td>\n",
       "    </tr>\n",
       "    <tr>\n",
       "      <th>70%</th>\n",
       "      <td>2.000000</td>\n",
       "    </tr>\n",
       "    <tr>\n",
       "      <th>80%</th>\n",
       "      <td>2.000000</td>\n",
       "    </tr>\n",
       "    <tr>\n",
       "      <th>90%</th>\n",
       "      <td>4.000000</td>\n",
       "    </tr>\n",
       "    <tr>\n",
       "      <th>95%</th>\n",
       "      <td>4.000000</td>\n",
       "    </tr>\n",
       "    <tr>\n",
       "      <th>99%</th>\n",
       "      <td>6.000000</td>\n",
       "    </tr>\n",
       "    <tr>\n",
       "      <th>99.9%</th>\n",
       "      <td>6.000000</td>\n",
       "    </tr>\n",
       "    <tr>\n",
       "      <th>max</th>\n",
       "      <td>6.000000</td>\n",
       "    </tr>\n",
       "  </tbody>\n",
       "</table>\n",
       "</div>"
      ],
      "text/plain": [
       "          degree\n",
       "count  66.000000\n",
       "mean    1.151515\n",
       "std     1.638408\n",
       "min     0.000000\n",
       "0.1%    0.000000\n",
       "1%      0.000000\n",
       "5%      0.000000\n",
       "10%     0.000000\n",
       "20%     0.000000\n",
       "30%     0.000000\n",
       "40%     0.000000\n",
       "50%     0.000000\n",
       "60%     1.000000\n",
       "70%     2.000000\n",
       "80%     2.000000\n",
       "90%     4.000000\n",
       "95%     4.000000\n",
       "99%     6.000000\n",
       "99.9%   6.000000\n",
       "max     6.000000"
      ]
     },
     "metadata": {},
     "output_type": "display_data"
    },
    {
     "name": "stdout",
     "output_type": "stream",
     "text": [
      "skewness: 1.319896321903164\n",
      "kurtosis: 0.7395057887052885\n"
     ]
    },
    {
     "data": {
      "text/html": [
       "<h2>Plotting histogram for distribution of \"in degree\" of graph \"UserResponseGraph\"</h2>"
      ],
      "text/plain": [
       "<IPython.core.display.HTML object>"
      ]
     },
     "metadata": {},
     "output_type": "display_data"
    },
    {
     "name": "stdout",
     "output_type": "stream",
     "text": [
      "Kennzahlen\n"
     ]
    },
    {
     "data": {
      "text/html": [
       "<div>\n",
       "<style scoped>\n",
       "    .dataframe tbody tr th:only-of-type {\n",
       "        vertical-align: middle;\n",
       "    }\n",
       "\n",
       "    .dataframe tbody tr th {\n",
       "        vertical-align: top;\n",
       "    }\n",
       "\n",
       "    .dataframe thead th {\n",
       "        text-align: right;\n",
       "    }\n",
       "</style>\n",
       "<table border=\"1\" class=\"dataframe\">\n",
       "  <thead>\n",
       "    <tr style=\"text-align: right;\">\n",
       "      <th></th>\n",
       "      <th>in degree</th>\n",
       "    </tr>\n",
       "  </thead>\n",
       "  <tbody>\n",
       "    <tr>\n",
       "      <th>count</th>\n",
       "      <td>180.000000</td>\n",
       "    </tr>\n",
       "    <tr>\n",
       "      <th>mean</th>\n",
       "      <td>0.772222</td>\n",
       "    </tr>\n",
       "    <tr>\n",
       "      <th>std</th>\n",
       "      <td>1.494237</td>\n",
       "    </tr>\n",
       "    <tr>\n",
       "      <th>min</th>\n",
       "      <td>0.000000</td>\n",
       "    </tr>\n",
       "    <tr>\n",
       "      <th>0.1%</th>\n",
       "      <td>0.000000</td>\n",
       "    </tr>\n",
       "    <tr>\n",
       "      <th>1%</th>\n",
       "      <td>0.000000</td>\n",
       "    </tr>\n",
       "    <tr>\n",
       "      <th>5%</th>\n",
       "      <td>0.000000</td>\n",
       "    </tr>\n",
       "    <tr>\n",
       "      <th>10%</th>\n",
       "      <td>0.000000</td>\n",
       "    </tr>\n",
       "    <tr>\n",
       "      <th>20%</th>\n",
       "      <td>0.000000</td>\n",
       "    </tr>\n",
       "    <tr>\n",
       "      <th>30%</th>\n",
       "      <td>0.000000</td>\n",
       "    </tr>\n",
       "    <tr>\n",
       "      <th>40%</th>\n",
       "      <td>0.000000</td>\n",
       "    </tr>\n",
       "    <tr>\n",
       "      <th>50%</th>\n",
       "      <td>0.000000</td>\n",
       "    </tr>\n",
       "    <tr>\n",
       "      <th>60%</th>\n",
       "      <td>0.000000</td>\n",
       "    </tr>\n",
       "    <tr>\n",
       "      <th>70%</th>\n",
       "      <td>1.000000</td>\n",
       "    </tr>\n",
       "    <tr>\n",
       "      <th>80%</th>\n",
       "      <td>2.000000</td>\n",
       "    </tr>\n",
       "    <tr>\n",
       "      <th>90%</th>\n",
       "      <td>2.000000</td>\n",
       "    </tr>\n",
       "    <tr>\n",
       "      <th>95%</th>\n",
       "      <td>3.050000</td>\n",
       "    </tr>\n",
       "    <tr>\n",
       "      <th>99%</th>\n",
       "      <td>7.210000</td>\n",
       "    </tr>\n",
       "    <tr>\n",
       "      <th>99.9%</th>\n",
       "      <td>9.642000</td>\n",
       "    </tr>\n",
       "    <tr>\n",
       "      <th>max</th>\n",
       "      <td>10.000000</td>\n",
       "    </tr>\n",
       "  </tbody>\n",
       "</table>\n",
       "</div>"
      ],
      "text/plain": [
       "        in degree\n",
       "count  180.000000\n",
       "mean     0.772222\n",
       "std      1.494237\n",
       "min      0.000000\n",
       "0.1%     0.000000\n",
       "1%       0.000000\n",
       "5%       0.000000\n",
       "10%      0.000000\n",
       "20%      0.000000\n",
       "30%      0.000000\n",
       "40%      0.000000\n",
       "50%      0.000000\n",
       "60%      0.000000\n",
       "70%      1.000000\n",
       "80%      2.000000\n",
       "90%      2.000000\n",
       "95%      3.050000\n",
       "99%      7.210000\n",
       "99.9%    9.642000\n",
       "max     10.000000"
      ]
     },
     "metadata": {},
     "output_type": "display_data"
    },
    {
     "name": "stdout",
     "output_type": "stream",
     "text": [
      "skewness: 3.0430667547308503\n",
      "kurtosis: 11.905896444159884\n"
     ]
    },
    {
     "data": {
      "text/html": [
       "<h2>Plotting histogram for distribution of \"out degree\" of graph \"UserResponseGraph\"</h2>"
      ],
      "text/plain": [
       "<IPython.core.display.HTML object>"
      ]
     },
     "metadata": {},
     "output_type": "display_data"
    },
    {
     "name": "stdout",
     "output_type": "stream",
     "text": [
      "Kennzahlen\n"
     ]
    },
    {
     "data": {
      "text/html": [
       "<div>\n",
       "<style scoped>\n",
       "    .dataframe tbody tr th:only-of-type {\n",
       "        vertical-align: middle;\n",
       "    }\n",
       "\n",
       "    .dataframe tbody tr th {\n",
       "        vertical-align: top;\n",
       "    }\n",
       "\n",
       "    .dataframe thead th {\n",
       "        text-align: right;\n",
       "    }\n",
       "</style>\n",
       "<table border=\"1\" class=\"dataframe\">\n",
       "  <thead>\n",
       "    <tr style=\"text-align: right;\">\n",
       "      <th></th>\n",
       "      <th>out degree</th>\n",
       "    </tr>\n",
       "  </thead>\n",
       "  <tbody>\n",
       "    <tr>\n",
       "      <th>count</th>\n",
       "      <td>180.000000</td>\n",
       "    </tr>\n",
       "    <tr>\n",
       "      <th>mean</th>\n",
       "      <td>0.772222</td>\n",
       "    </tr>\n",
       "    <tr>\n",
       "      <th>std</th>\n",
       "      <td>0.746168</td>\n",
       "    </tr>\n",
       "    <tr>\n",
       "      <th>min</th>\n",
       "      <td>0.000000</td>\n",
       "    </tr>\n",
       "    <tr>\n",
       "      <th>0.1%</th>\n",
       "      <td>0.000000</td>\n",
       "    </tr>\n",
       "    <tr>\n",
       "      <th>1%</th>\n",
       "      <td>0.000000</td>\n",
       "    </tr>\n",
       "    <tr>\n",
       "      <th>5%</th>\n",
       "      <td>0.000000</td>\n",
       "    </tr>\n",
       "    <tr>\n",
       "      <th>10%</th>\n",
       "      <td>0.000000</td>\n",
       "    </tr>\n",
       "    <tr>\n",
       "      <th>20%</th>\n",
       "      <td>0.000000</td>\n",
       "    </tr>\n",
       "    <tr>\n",
       "      <th>30%</th>\n",
       "      <td>0.000000</td>\n",
       "    </tr>\n",
       "    <tr>\n",
       "      <th>40%</th>\n",
       "      <td>1.000000</td>\n",
       "    </tr>\n",
       "    <tr>\n",
       "      <th>50%</th>\n",
       "      <td>1.000000</td>\n",
       "    </tr>\n",
       "    <tr>\n",
       "      <th>60%</th>\n",
       "      <td>1.000000</td>\n",
       "    </tr>\n",
       "    <tr>\n",
       "      <th>70%</th>\n",
       "      <td>1.000000</td>\n",
       "    </tr>\n",
       "    <tr>\n",
       "      <th>80%</th>\n",
       "      <td>1.000000</td>\n",
       "    </tr>\n",
       "    <tr>\n",
       "      <th>90%</th>\n",
       "      <td>1.000000</td>\n",
       "    </tr>\n",
       "    <tr>\n",
       "      <th>95%</th>\n",
       "      <td>2.000000</td>\n",
       "    </tr>\n",
       "    <tr>\n",
       "      <th>99%</th>\n",
       "      <td>3.420000</td>\n",
       "    </tr>\n",
       "    <tr>\n",
       "      <th>99.9%</th>\n",
       "      <td>5.000000</td>\n",
       "    </tr>\n",
       "    <tr>\n",
       "      <th>max</th>\n",
       "      <td>5.000000</td>\n",
       "    </tr>\n",
       "  </tbody>\n",
       "</table>\n",
       "</div>"
      ],
      "text/plain": [
       "       out degree\n",
       "count  180.000000\n",
       "mean     0.772222\n",
       "std      0.746168\n",
       "min      0.000000\n",
       "0.1%     0.000000\n",
       "1%       0.000000\n",
       "5%       0.000000\n",
       "10%      0.000000\n",
       "20%      0.000000\n",
       "30%      0.000000\n",
       "40%      1.000000\n",
       "50%      1.000000\n",
       "60%      1.000000\n",
       "70%      1.000000\n",
       "80%      1.000000\n",
       "90%      1.000000\n",
       "95%      2.000000\n",
       "99%      3.420000\n",
       "99.9%    5.000000\n",
       "max      5.000000"
      ]
     },
     "metadata": {},
     "output_type": "display_data"
    },
    {
     "name": "stdout",
     "output_type": "stream",
     "text": [
      "skewness: 2.255065339715887\n",
      "kurtosis: 10.516857903480814\n"
     ]
    },
    {
     "data": {
      "text/plain": [
       "<Figure size 432x288 with 0 Axes>"
      ]
     },
     "metadata": {},
     "output_type": "display_data"
    },
    {
     "data": {
      "image/png": "[encoded data removed]",
      "text/plain": [
       "<Figure size 1080x1080 with 6 Axes>"
      ]
     },
     "metadata": {},
     "output_type": "display_data"
    }
   ],
   "source": [
    "sns.set_theme(style=\"whitegrid\")\n",
    "sns.despine()\n",
    "\n",
    "fig1, f1_axes = plt.subplots(ncols=2, nrows=3, constrained_layout=True, figsize=(15, 15))\n",
    "plt.suptitle('Degree distributions', fontsize=24)\n",
    "\n",
    "for i, (rel_data, lbl, gr_name) in enumerate(\n",
    "                                                [(doc_response_data, 'degree', doc_graph.graph['name']), \n",
    "                                                 (user_response_data, 'in degree', user_response_graph.graph['name']), \n",
    "                                                 (user_response_data, 'out degree', user_response_graph.graph['name'])\n",
    "                                                ]\n",
    "                                            ):\n",
    "    rel_txt = f'\"{lbl}\" of graph \"{gr_name}\"'\n",
    "    display(HTML(f'<h2>Plotting histogram for distribution of ' + rel_txt + '</h2>'))\n",
    "    for j, bool_density in enumerate([True, False]):\n",
    "        rel_data[[lbl]].hist(bins=50, density=bool_density, ax = f1_axes[i, j])\n",
    "        f1_axes[i, j].set_title(rel_txt + (' (density)' if bool_density else ' (total count)'))\n",
    "\n",
    "    print('Kennzahlen')\n",
    "    display(rel_data[[lbl]].describe(percentiles=[.001, 0.01, 0.05, 0.1,.2,.3,.4,.5,.6,.7,.8,.9, 0.95, .99, 0.999]))\n",
    "    descr = scipy.stats.describe(rel_data[lbl])\n",
    "    for attri in ['skewness', 'kurtosis']:\n",
    "        print(f'{attri}: {getattr(descr, attri)}')"
   ]
  },
  {
   "cell_type": "markdown",
   "metadata": {},
   "source": [
    "# Export node level graph data"
   ]
  },
  {
   "cell_type": "code",
   "execution_count": 12,
   "metadata": {},
   "outputs": [],
   "source": [
    "user_response_data.to_excel(EXP_PATH_USER_GRAPH)\n",
    "doc_response_data.to_excel(EXP_PATH_DOC_GRAPH)"
   ]
  },
  {
   "cell_type": "markdown",
   "metadata": {},
   "source": [
    "# Calculate key metrics for relevant graphs"
   ]
  },
  {
   "cell_type": "code",
   "execution_count": 30,
   "metadata": {},
   "outputs": [
    {
     "data": {
      "text/html": [
       "<h1>Key metrics of graphs</h1>"
      ],
      "text/plain": [
       "<IPython.core.display.HTML object>"
      ]
     },
     "metadata": {},
     "output_type": "display_data"
    },
    {
     "data": {
      "text/html": [
       "<h2>FullDocumentUserGraph</h2>"
      ],
      "text/plain": [
       "<IPython.core.display.HTML object>"
      ]
     },
     "metadata": {},
     "output_type": "display_data"
    },
    {
     "name": "stdout",
     "output_type": "stream",
     "text": [
      "number of nodes:  246\n",
      "number of edges:  205\n",
      "average degree:  0.8333333333333334\n",
      "Strongly connected components:  244\n",
      "Weakly connected components:  44\n"
     ]
    },
    {
     "data": {
      "text/html": [
       "<h2>UserResponseGraph</h2>"
      ],
      "text/plain": [
       "<IPython.core.display.HTML object>"
      ]
     },
     "metadata": {},
     "output_type": "display_data"
    },
    {
     "name": "stdout",
     "output_type": "stream",
     "text": [
      "number of nodes:  180\n",
      "number of edges:  139\n",
      "average degree:  0.7722222222222223\n",
      "Strongly connected components:  180\n",
      "Weakly connected components:  44\n"
     ]
    },
    {
     "data": {
      "text/html": [
       "<h2>DocumentUserSharedGraph</h2>"
      ],
      "text/plain": [
       "<IPython.core.display.HTML object>"
      ]
     },
     "metadata": {},
     "output_type": "display_data"
    },
    {
     "name": "stdout",
     "output_type": "stream",
     "text": [
      "number of nodes:  66\n",
      "number of edges:  38\n",
      "average degree:  0.5757575757575758\n",
      "Connected components:  44\n"
     ]
    },
    {
     "data": {
      "text/html": [
       "<h2>ReducedUserResponseGraph</h2>"
      ],
      "text/plain": [
       "<IPython.core.display.HTML object>"
      ]
     },
     "metadata": {},
     "output_type": "display_data"
    },
    {
     "name": "stdout",
     "output_type": "stream",
     "text": [
      "number of nodes:  180\n",
      "number of edges:  139\n",
      "average degree:  0.7722222222222223\n",
      "Strongly connected components:  180\n",
      "Weakly connected components:  44\n"
     ]
    },
    {
     "data": {
      "text/html": [
       "<h2>ReducedDocumentUserSharedGraph</h2>"
      ],
      "text/plain": [
       "<IPython.core.display.HTML object>"
      ]
     },
     "metadata": {},
     "output_type": "display_data"
    },
    {
     "name": "stdout",
     "output_type": "stream",
     "text": [
      "number of nodes:  66\n",
      "number of edges:  37\n",
      "average degree:  0.5606060606060606\n",
      "Connected components:  44\n"
     ]
    }
   ],
   "source": [
    "display(HTML(f'<h1>Key metrics of graphs</h1>'))\n",
    "for gr in (graph.G, user_response_graph, doc_graph, multi_graph_2_weighted_graph(user_response_graph), multi_graph_2_weighted_graph(doc_graph)):\n",
    "    gr_name = gr.graph.get('name', 'FullDocumentUserGraph')\n",
    "    display(HTML(f'<h2>{gr_name}</h2>'))\n",
    "    nr_nodes = gr.number_of_nodes()\n",
    "    nr_edges = gr.number_of_edges()\n",
    "    print('number of nodes: ', nr_nodes)\n",
    "    print('number of edges: ', nr_edges)\n",
    "    print('average degree: ', nr_edges/nr_nodes)\n",
    "    if gr_name in ('UserResponseGraph', 'ReducedUserResponseGraph', 'FullDocumentUserGraph'):\n",
    "        print('Strongly connected components: ', nx.number_strongly_connected_components(gr))\n",
    "        print('Weakly connected components: ', nx.number_weakly_connected_components(gr))\n",
    "    elif gr_name in ('DocumentUserSharedGraph', 'ReducedDocumentUserSharedGraph'):\n",
    "        print('Connected components: ', nx.number_connected_components(gr))\n",
    "        "
   ]
  },
  {
   "cell_type": "markdown",
   "metadata": {},
   "source": [
    "# Calculate average cosine similarity and randomized empirical distribution of cosine similarity"
   ]
  },
  {
   "cell_type": "code",
   "execution_count": 31,
   "metadata": {},
   "outputs": [
    {
     "data": {
      "text/html": [
       "<h2>Calculating results for graph \"DocumentUserSharedGraph\"...</h2><div>Progress: 100.0000%</div><div style=\"width:500px;height:30px;border:1px solid #000;\"><div style=\"width:498px;height:28px;border:1px solid #000;background-color:DodgerBlue;color:White\"></div></div><div>Duration: 0:00:29.058951</div>"
      ],
      "text/plain": [
       "<IPython.core.display.HTML object>"
      ]
     },
     "metadata": {},
     "output_type": "display_data"
    },
    {
     "data": {
      "text/html": [
       "<h1>Results</h1>"
      ],
      "text/plain": [
       "<IPython.core.display.HTML object>"
      ]
     },
     "metadata": {},
     "output_type": "display_data"
    },
    {
     "data": {
      "text/html": [
       "<h2>Graph \"UserResponseGraph\"</h2>"
      ],
      "text/plain": [
       "<IPython.core.display.HTML object>"
      ]
     },
     "metadata": {},
     "output_type": "display_data"
    },
    {
     "name": "stdout",
     "output_type": "stream",
     "text": [
      "Average cosine similarity of connected documents:  0.9758060433777055\n",
      "Average cosine similarity equates to the following quantile of empirical distribution:  1.0\n"
     ]
    },
    {
     "data": {
      "text/html": [
       "<h2>Graph \"DocumentUserSharedGraph\"</h2>"
      ],
      "text/plain": [
       "<IPython.core.display.HTML object>"
      ]
     },
     "metadata": {},
     "output_type": "display_data"
    },
    {
     "name": "stdout",
     "output_type": "stream",
     "text": [
      "Average cosine similarity of connected documents:  0.7340664575686319\n",
      "Average cosine similarity equates to the following quantile of empirical distribution:  0.5720000000000001\n"
     ]
    }
   ],
   "source": [
    "class CosSimCalculator:\n",
    "    \n",
    "    def __init__(self, graph):\n",
    "        self.graph = graph\n",
    "        nr_nodes = graph.number_of_nodes()\n",
    "        for node in graph.nodes():\n",
    "            nr_weights = graph.nodes[node]['topic_weights'].shape[0]\n",
    "            break\n",
    "        self.weight_array = np.zeros(shape=(nr_nodes, nr_weights), dtype=float)\n",
    "        self.node2posdict = {}\n",
    "        for i, node in enumerate(graph.nodes()):\n",
    "            self.node2posdict[node] = i\n",
    "            for j in range(nr_weights):\n",
    "                self.weight_array[i, j] = graph.nodes[node]['topic_weights'][j]\n",
    "        \n",
    "        self.edge_list = []\n",
    "        for edge in graph.edges():\n",
    "            self.edge_list.append((self.node2posdict[edge[0]], self.node2posdict[edge[1]]))\n",
    "        self.nodepair_2_value_dict = {}\n",
    "        \n",
    "    @property\n",
    "    def nr_edges(self):\n",
    "        return len(self.edge_list)\n",
    "    \n",
    "    @property\n",
    "    def nr_nodes(self):\n",
    "        return self.weight_array.shape[0]\n",
    "    \n",
    "    @property\n",
    "    def nr_weights(self):\n",
    "        return self.weight_array.shape[1]\n",
    "    \n",
    "    def get_cos_sim(self, i, j):\n",
    "        a = self.weight_array[i]\n",
    "        b = self.weight_array[j]\n",
    "        return np.dot(a, b) / (np.linalg.norm(a)*np.linalg.norm(b))\n",
    "    \n",
    "    def __call__(self, permut_array = None):\n",
    "        if permut_array is None:\n",
    "            permut_array = np.arange(self.nr_nodes)\n",
    "        sum_of_cos = 0.0\n",
    "        for e1, e2 in self.edge_list:\n",
    "            i = permut_array[e1]\n",
    "            j = permut_array[e2]\n",
    "            if i<=j:\n",
    "                key = (i, j)\n",
    "            else:\n",
    "                key = (j, i)\n",
    "            new_cos_sim = self.nodepair_2_value_dict.get(key, 0)\n",
    "            if new_cos_sim == 0:\n",
    "                new_cos_sim = self.get_cos_sim(i, j)\n",
    "                self.nodepair_2_value_dict[key] = new_cos_sim\n",
    "            sum_of_cos += new_cos_sim\n",
    "        \n",
    "        return sum_of_cos / self.nr_edges\n",
    "        \n",
    "@dataclass\n",
    "class SimilarityCalculationResult:\n",
    "    graph: Any\n",
    "    NR_ITERATE: int = 100\n",
    "    res_avg_cos_sim: float = 0.0\n",
    "    res_emp_cos_sim_dist: pd.DataFrame = None\n",
    "        \n",
    "    def calculate_emp_distr(self, progr_bar):\n",
    "        cos_sim_calc = CosSimCalculator(self.graph)\n",
    "        self.res_avg_cos_sim = cos_sim_calc()\n",
    "        nr_nodes = cos_sim_calc.nr_nodes\n",
    "        \n",
    "        res_lst = []\n",
    "        for i in range(self.NR_ITERATE):\n",
    "            rnd_perm = np.random.permutation(nr_nodes)\n",
    "            progr_bar.update_progress(i/self.NR_ITERATE)\n",
    "            res_lst.append(cos_sim_calc(rnd_perm))\n",
    "        progr_bar.update_progress(1.0)\n",
    "        self.res_emp_cos_sim_dist = pd.DataFrame(res_lst, columns=['random cosine similarity'])\n",
    "         \n",
    "#generate calculation results\n",
    "cos_sim_res_lst = []\n",
    "for gr in [user_response_graph, doc_graph]: \n",
    "    new_res = SimilarityCalculationResult(graph = gr, NR_ITERATE = NR_ITERATE)\n",
    "    gr_name = gr.graph['name']\n",
    "    progr_bar = ProgressBar(f'Calculating results for graph \"{gr_name}\"...')\n",
    "    new_res.calculate_emp_distr(progr_bar)\n",
    "    cos_sim_res_lst.append(new_res)\n",
    "\n",
    "#output most average cosine similarity and its quantile within the emirical distribution\n",
    "display(HTML('<h1>Results</h1>'))\n",
    "for res in cos_sim_res_lst:\n",
    "    gr_name = res.graph.graph['name']\n",
    "    display(HTML(f'<h2>Graph \"{gr_name}\"</h2>'))\n",
    "    print('Average cosine similarity of connected documents: ', res.res_avg_cos_sim)\n",
    "    emp_dist = ECDF(res.res_emp_cos_sim_dist['random cosine similarity'])\n",
    "    print('Average cosine similarity equates to the following quantile of empirical distribution: ', emp_dist(res.res_avg_cos_sim))\n",
    "\n"
   ]
  },
  {
   "cell_type": "code",
   "execution_count": null,
   "metadata": {},
   "outputs": [],
   "source": []
  },
  {
   "cell_type": "markdown",
   "metadata": {},
   "source": [
    "# Eport Graph data"
   ]
  },
  {
   "cell_type": "code",
   "execution_count": 16,
   "metadata": {},
   "outputs": [],
   "source": [
    "for res in cos_sim_res_lst:\n",
    "    res.res_emp_cos_sim_dist.to_excel(EXP_PATH_DISTR.replace('@GRAPHNAME@', res.graph.graph['name']))"
   ]
  },
  {
   "cell_type": "code",
   "execution_count": 32,
   "metadata": {},
   "outputs": [
    {
     "data": {
      "text/html": [
       "<h1>Key metrics of empirical cosine similarity distribution</h1>"
      ],
      "text/plain": [
       "<IPython.core.display.HTML object>"
      ]
     },
     "metadata": {},
     "output_type": "display_data"
    },
    {
     "data": {
      "text/html": [
       "<h2>Graph \"UserResponseGraph\"</h2>"
      ],
      "text/plain": [
       "<IPython.core.display.HTML object>"
      ]
     },
     "metadata": {},
     "output_type": "display_data"
    },
    {
     "name": "stdout",
     "output_type": "stream",
     "text": [
      "Average cosine similarity:  0.9758060433777055\n",
      "Corresponding quantile in empirical distribution:  1.0\n",
      "     -> Assortativity result is highly significant\n",
      "VA-Index:  0.9842248009362576\n"
     ]
    },
    {
     "data": {
      "text/html": [
       "<div>\n",
       "<style scoped>\n",
       "    .dataframe tbody tr th:only-of-type {\n",
       "        vertical-align: middle;\n",
       "    }\n",
       "\n",
       "    .dataframe tbody tr th {\n",
       "        vertical-align: top;\n",
       "    }\n",
       "\n",
       "    .dataframe thead th {\n",
       "        text-align: right;\n",
       "    }\n",
       "</style>\n",
       "<table border=\"1\" class=\"dataframe\">\n",
       "  <thead>\n",
       "    <tr style=\"text-align: right;\">\n",
       "      <th></th>\n",
       "      <th>random cosine similarity</th>\n",
       "    </tr>\n",
       "  </thead>\n",
       "  <tbody>\n",
       "    <tr>\n",
       "      <th>count</th>\n",
       "      <td>10000.000000</td>\n",
       "    </tr>\n",
       "    <tr>\n",
       "      <th>mean</th>\n",
       "      <td>0.785283</td>\n",
       "    </tr>\n",
       "    <tr>\n",
       "      <th>std</th>\n",
       "      <td>0.034248</td>\n",
       "    </tr>\n",
       "    <tr>\n",
       "      <th>min</th>\n",
       "      <td>0.602024</td>\n",
       "    </tr>\n",
       "    <tr>\n",
       "      <th>0.1%</th>\n",
       "      <td>0.657195</td>\n",
       "    </tr>\n",
       "    <tr>\n",
       "      <th>1%</th>\n",
       "      <td>0.693036</td>\n",
       "    </tr>\n",
       "    <tr>\n",
       "      <th>5%</th>\n",
       "      <td>0.723040</td>\n",
       "    </tr>\n",
       "    <tr>\n",
       "      <th>10%</th>\n",
       "      <td>0.738102</td>\n",
       "    </tr>\n",
       "    <tr>\n",
       "      <th>20%</th>\n",
       "      <td>0.757222</td>\n",
       "    </tr>\n",
       "    <tr>\n",
       "      <th>30%</th>\n",
       "      <td>0.770317</td>\n",
       "    </tr>\n",
       "    <tr>\n",
       "      <th>40%</th>\n",
       "      <td>0.780457</td>\n",
       "    </tr>\n",
       "    <tr>\n",
       "      <th>50%</th>\n",
       "      <td>0.789078</td>\n",
       "    </tr>\n",
       "    <tr>\n",
       "      <th>60%</th>\n",
       "      <td>0.797616</td>\n",
       "    </tr>\n",
       "    <tr>\n",
       "      <th>70%</th>\n",
       "      <td>0.805928</td>\n",
       "    </tr>\n",
       "    <tr>\n",
       "      <th>80%</th>\n",
       "      <td>0.814760</td>\n",
       "    </tr>\n",
       "    <tr>\n",
       "      <th>90%</th>\n",
       "      <td>0.826528</td>\n",
       "    </tr>\n",
       "    <tr>\n",
       "      <th>95%</th>\n",
       "      <td>0.834158</td>\n",
       "    </tr>\n",
       "    <tr>\n",
       "      <th>99%</th>\n",
       "      <td>0.849125</td>\n",
       "    </tr>\n",
       "    <tr>\n",
       "      <th>99.9%</th>\n",
       "      <td>0.860301</td>\n",
       "    </tr>\n",
       "    <tr>\n",
       "      <th>max</th>\n",
       "      <td>0.878592</td>\n",
       "    </tr>\n",
       "  </tbody>\n",
       "</table>\n",
       "</div>"
      ],
      "text/plain": [
       "       random cosine similarity\n",
       "count              10000.000000\n",
       "mean                   0.785283\n",
       "std                    0.034248\n",
       "min                    0.602024\n",
       "0.1%                   0.657195\n",
       "1%                     0.693036\n",
       "5%                     0.723040\n",
       "10%                    0.738102\n",
       "20%                    0.757222\n",
       "30%                    0.770317\n",
       "40%                    0.780457\n",
       "50%                    0.789078\n",
       "60%                    0.797616\n",
       "70%                    0.805928\n",
       "80%                    0.814760\n",
       "90%                    0.826528\n",
       "95%                    0.834158\n",
       "99%                    0.849125\n",
       "99.9%                  0.860301\n",
       "max                    0.878592"
      ]
     },
     "metadata": {},
     "output_type": "display_data"
    },
    {
     "name": "stdout",
     "output_type": "stream",
     "text": [
      "skewness: -0.5942823437813627\n",
      "kurtosis: 0.3665250639576332\n"
     ]
    },
    {
     "data": {
      "text/html": [
       "<h2>Graph \"DocumentUserSharedGraph\"</h2>"
      ],
      "text/plain": [
       "<IPython.core.display.HTML object>"
      ]
     },
     "metadata": {},
     "output_type": "display_data"
    },
    {
     "name": "stdout",
     "output_type": "stream",
     "text": [
      "Average cosine similarity:  0.7340664575686319\n",
      "Corresponding quantile in empirical distribution:  0.5720000000000001\n",
      "     -> Assortativity result is not significant\n",
      "VA-Index:  0.18973303442624906\n"
     ]
    },
    {
     "data": {
      "text/html": [
       "<div>\n",
       "<style scoped>\n",
       "    .dataframe tbody tr th:only-of-type {\n",
       "        vertical-align: middle;\n",
       "    }\n",
       "\n",
       "    .dataframe tbody tr th {\n",
       "        vertical-align: top;\n",
       "    }\n",
       "\n",
       "    .dataframe thead th {\n",
       "        text-align: right;\n",
       "    }\n",
       "</style>\n",
       "<table border=\"1\" class=\"dataframe\">\n",
       "  <thead>\n",
       "    <tr style=\"text-align: right;\">\n",
       "      <th></th>\n",
       "      <th>random cosine similarity</th>\n",
       "    </tr>\n",
       "  </thead>\n",
       "  <tbody>\n",
       "    <tr>\n",
       "      <th>count</th>\n",
       "      <td>10000.000000</td>\n",
       "    </tr>\n",
       "    <tr>\n",
       "      <th>mean</th>\n",
       "      <td>0.714276</td>\n",
       "    </tr>\n",
       "    <tr>\n",
       "      <th>std</th>\n",
       "      <td>0.102413</td>\n",
       "    </tr>\n",
       "    <tr>\n",
       "      <th>min</th>\n",
       "      <td>0.365122</td>\n",
       "    </tr>\n",
       "    <tr>\n",
       "      <th>0.1%</th>\n",
       "      <td>0.420892</td>\n",
       "    </tr>\n",
       "    <tr>\n",
       "      <th>1%</th>\n",
       "      <td>0.471516</td>\n",
       "    </tr>\n",
       "    <tr>\n",
       "      <th>5%</th>\n",
       "      <td>0.544923</td>\n",
       "    </tr>\n",
       "    <tr>\n",
       "      <th>10%</th>\n",
       "      <td>0.579054</td>\n",
       "    </tr>\n",
       "    <tr>\n",
       "      <th>20%</th>\n",
       "      <td>0.626420</td>\n",
       "    </tr>\n",
       "    <tr>\n",
       "      <th>30%</th>\n",
       "      <td>0.658387</td>\n",
       "    </tr>\n",
       "    <tr>\n",
       "      <th>40%</th>\n",
       "      <td>0.687177</td>\n",
       "    </tr>\n",
       "    <tr>\n",
       "      <th>50%</th>\n",
       "      <td>0.715301</td>\n",
       "    </tr>\n",
       "    <tr>\n",
       "      <th>60%</th>\n",
       "      <td>0.742078</td>\n",
       "    </tr>\n",
       "    <tr>\n",
       "      <th>70%</th>\n",
       "      <td>0.768948</td>\n",
       "    </tr>\n",
       "    <tr>\n",
       "      <th>80%</th>\n",
       "      <td>0.803415</td>\n",
       "    </tr>\n",
       "    <tr>\n",
       "      <th>90%</th>\n",
       "      <td>0.848565</td>\n",
       "    </tr>\n",
       "    <tr>\n",
       "      <th>95%</th>\n",
       "      <td>0.883242</td>\n",
       "    </tr>\n",
       "    <tr>\n",
       "      <th>99%</th>\n",
       "      <td>0.938750</td>\n",
       "    </tr>\n",
       "    <tr>\n",
       "      <th>99.9%</th>\n",
       "      <td>0.980211</td>\n",
       "    </tr>\n",
       "    <tr>\n",
       "      <th>max</th>\n",
       "      <td>0.992136</td>\n",
       "    </tr>\n",
       "  </tbody>\n",
       "</table>\n",
       "</div>"
      ],
      "text/plain": [
       "       random cosine similarity\n",
       "count              10000.000000\n",
       "mean                   0.714276\n",
       "std                    0.102413\n",
       "min                    0.365122\n",
       "0.1%                   0.420892\n",
       "1%                     0.471516\n",
       "5%                     0.544923\n",
       "10%                    0.579054\n",
       "20%                    0.626420\n",
       "30%                    0.658387\n",
       "40%                    0.687177\n",
       "50%                    0.715301\n",
       "60%                    0.742078\n",
       "70%                    0.768948\n",
       "80%                    0.803415\n",
       "90%                    0.848565\n",
       "95%                    0.883242\n",
       "99%                    0.938750\n",
       "99.9%                  0.980211\n",
       "max                    0.992136"
      ]
     },
     "metadata": {},
     "output_type": "display_data"
    },
    {
     "name": "stdout",
     "output_type": "stream",
     "text": [
      "skewness: -0.0733006732775601\n",
      "kurtosis: -0.26038284596134\n"
     ]
    },
    {
     "data": {
      "text/plain": [
       "<Figure size 432x288 with 0 Axes>"
      ]
     },
     "metadata": {},
     "output_type": "display_data"
    },
    {
     "data": {
      "image/png": "[encoded data removed]",
      "text/plain": [
       "<Figure size 1080x1080 with 4 Axes>"
      ]
     },
     "metadata": {},
     "output_type": "display_data"
    }
   ],
   "source": [
    "display(HTML('<h1>Key metrics of empirical cosine similarity distribution</h1>'))\n",
    "sns.set_theme(style=\"whitegrid\")\n",
    "sns.despine()\n",
    "\n",
    "fig2, f2_axes = plt.subplots(ncols=2, nrows=len(cos_sim_res_lst), constrained_layout=True, figsize=(15, 15), squeeze=False)\n",
    "plt.suptitle('Empirical distributions of average cosine similarity', fontsize=24)\n",
    "\n",
    "for i, res in enumerate(cos_sim_res_lst):\n",
    "    gr_name = res.graph.graph['name']\n",
    "    display(HTML(f'<h2>Graph \"{gr_name}\"</h2>'))\n",
    "    for j, density_bool in enumerate([True, False]):\n",
    "        res.res_emp_cos_sim_dist.hist(bins=50, ax = f2_axes[i, j])\n",
    "        f2_axes[i, j].set_title(f'Graph \"{gr_name}\" ' + ('(density)' if density_bool else '(total count)'))\n",
    "\n",
    "    print(f'Average cosine similarity: ',  res.res_avg_cos_sim)\n",
    "    emp_dist = ECDF(res.res_emp_cos_sim_dist['random cosine similarity'])\n",
    "    e_qu = emp_dist(res.res_avg_cos_sim)\n",
    "    print('Corresponding quantile in empirical distribution: ', e_qu)\n",
    "    if e_qu > 0.975 or e_qu < 0.025:\n",
    "        txt = 'highly significant'\n",
    "    elif e_qu > 0.95 or e_qu < 0.05:\n",
    "        txt = 'significant'\n",
    "    else:\n",
    "        txt = 'not significant'\n",
    "    print('     -> Assortativity result is ' + txt)\n",
    "    descr_pd = res.res_emp_cos_sim_dist.describe(percentiles=[.001, 0.01, 0.05, 0.1,.2,.3,.4,.5,.6,.7,.8,.9, 0.95, .99, 0.999])\n",
    "    d_for_VA =  (res.res_avg_cos_sim - descr_pd.loc['mean', 'random cosine similarity'])/descr_pd.loc['std', 'random cosine similarity']\n",
    "    alpha_for_VA = d_for_VA/math.sqrt(d_for_VA*d_for_VA + 1.0)\n",
    "    print('VA-Index: ', alpha_for_VA)\n",
    "    display(descr_pd)\n",
    "    descr = scipy.stats.describe(res.res_emp_cos_sim_dist['random cosine similarity'])\n",
    "    for attri in ['skewness', 'kurtosis']:\n",
    "        print(f'{attri}: {getattr(descr, attri)}')"
   ]
  },
  {
   "cell_type": "code",
   "execution_count": null,
   "metadata": {},
   "outputs": [],
   "source": []
  }
 ],
 "metadata": {
  "kernelspec": {
   "display_name": "Python 3",
   "language": "python",
   "name": "python3"
  },
  "language_info": {
   "codemirror_mode": {
    "name": "ipython",
    "version": 3
   },
   "file_extension": ".py",
   "mimetype": "text/x-python",
   "name": "python",
   "nbconvert_exporter": "python",
   "pygments_lexer": "ipython3",
   "version": "3.8.6"
  }
 },
 "nbformat": 4,
 "nbformat_minor": 4
}
